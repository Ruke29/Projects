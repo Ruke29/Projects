{
 "cells": [
  {
   "cell_type": "code",
   "execution_count": 1,
   "id": "ae8ee150-175d-43a9-b6aa-09559cc092b3",
   "metadata": {},
   "outputs": [
    {
     "name": "stdout",
     "output_type": "stream",
     "text": [
      "--- Parkinson's Disease Prediction System ---\n",
      "Please input the following parameters:\n"
     ]
    },
    {
     "name": "stdin",
     "output_type": "stream",
     "text": [
      "1. Age (in years):  40\n",
      "2. Gender (M/F):  m\n",
      "3. Tremors (0 for no, 1 for yes):  0\n",
      "4. Rigidity (0 for no, 1 for yes):  1\n",
      "5. Bradykinesia (0 for no, 1 for yes):  0\n",
      "6. Postural instability (0 for no, 1 for yes):  1\n",
      "7. Gait disturbance (0 for no, 1 for yes):  1\n",
      "8. Family history (0 for no, 1 for yes):  1\n"
     ]
    },
    {
     "name": "stdout",
     "output_type": "stream",
     "text": [
      "\n",
      "Prediction:\n",
      "Likelihood of Parkinson's Disease: High\n"
     ]
    }
   ],
   "source": [
    "# Importing necessary libraries\n",
    "from sklearn.model_selection import train_test_split\n",
    "from sklearn.ensemble import RandomForestClassifier\n",
    "import numpy as np\n",
    "\n",
    "# Sample dataset (you would replace this with your own dataset)\n",
    "# Each row represents a patient with features and the last column represents the target variable (0 for no Parkinson's, 1 for Parkinson's)\n",
    "dataset = np.array([\n",
    "    [63, 'M', 1, 1, 1, 1, 1, 1, 1],\n",
    "    [67, 'F', 1, 0, 1, 1, 0, 1, 0],\n",
    "    # Add more data...\n",
    "])\n",
    "\n",
    "# Converting categorical variables (gender) to numerical\n",
    "dataset[:, 1] = np.where(dataset[:, 1] == 'M', 0, 1)\n",
    "\n",
    "# Splitting features and target variable\n",
    "X = dataset[:, :-1].astype(float)\n",
    "y = dataset[:, -1].astype(int)\n",
    "\n",
    "# Training the model\n",
    "model = RandomForestClassifier()\n",
    "model.fit(X, y)\n",
    "\n",
    "def predict_parkinsons(age, gender, tremors, rigidity, bradykinesia, postural_instability, gait_disturbance, family_history):\n",
    "    # Converting gender to numerical\n",
    "    gender = 0 if gender.lower() == 'm' else 1\n",
    "    # Making prediction\n",
    "    prediction = model.predict([[age, gender, tremors, rigidity, bradykinesia, postural_instability, gait_disturbance, family_history]])\n",
    "    return prediction[0]\n",
    "\n",
    "# User interface function\n",
    "def user_interface():\n",
    "    print(\"--- Parkinson's Disease Prediction System ---\")\n",
    "    print(\"Please input the following parameters:\")\n",
    "    age = float(input(\"1. Age (in years): \"))\n",
    "    gender = input(\"2. Gender (M/F): \")\n",
    "    tremors = int(input(\"3. Tremors (0 for no, 1 for yes): \"))\n",
    "    rigidity = int(input(\"4. Rigidity (0 for no, 1 for yes): \"))\n",
    "    bradykinesia = int(input(\"5. Bradykinesia (0 for no, 1 for yes): \"))\n",
    "    postural_instability = int(input(\"6. Postural instability (0 for no, 1 for yes): \"))\n",
    "    gait_disturbance = int(input(\"7. Gait disturbance (0 for no, 1 for yes): \"))\n",
    "    family_history = int(input(\"8. Family history (0 for no, 1 for yes): \"))\n",
    "    \n",
    "    # Making prediction\n",
    "    prediction = predict_parkinsons(age, gender, tremors, rigidity, bradykinesia, postural_instability, gait_disturbance, family_history)\n",
    "    \n",
    "    print(\"\\nPrediction:\")\n",
    "    if prediction == 1:\n",
    "        print(\"Likelihood of Parkinson's Disease: High\")\n",
    "    else:\n",
    "        print(\"Likelihood of Parkinson's Disease: Low\")\n",
    "\n",
    "# Running the user interface\n",
    "user_interface()\n"
   ]
  },
  {
   "cell_type": "code",
   "execution_count": null,
   "id": "e3d85627-2032-4521-9cf3-cae0f023836c",
   "metadata": {},
   "outputs": [],
   "source": []
  }
 ],
 "metadata": {
  "kernelspec": {
   "display_name": "Python 3 (ipykernel)",
   "language": "python",
   "name": "python3"
  },
  "language_info": {
   "codemirror_mode": {
    "name": "ipython",
    "version": 3
   },
   "file_extension": ".py",
   "mimetype": "text/x-python",
   "name": "python",
   "nbconvert_exporter": "python",
   "pygments_lexer": "ipython3",
   "version": "3.11.7"
  }
 },
 "nbformat": 4,
 "nbformat_minor": 5
}
